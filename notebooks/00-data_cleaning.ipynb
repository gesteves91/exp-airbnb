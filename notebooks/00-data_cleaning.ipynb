{
 "cells": [
  {
   "cell_type": "markdown",
   "metadata": {},
   "source": [
    "# Feature Engineering"
   ]
  },
  {
   "cell_type": "code",
   "execution_count": 215,
   "metadata": {},
   "outputs": [],
   "source": [
    "# import libraries\n",
    "import pandas as pd\n",
    "import numpy as np"
   ]
  },
  {
   "cell_type": "code",
   "execution_count": 216,
   "metadata": {},
   "outputs": [],
   "source": [
    "# avoid om\n",
    "pd.set_option('display.max_columns', None)\n",
    "pd.set_option('display.max_rows', None)"
   ]
  },
  {
   "cell_type": "markdown",
   "metadata": {},
   "source": [
    "### Read Dataset"
   ]
  },
  {
   "cell_type": "code",
   "execution_count": 217,
   "metadata": {},
   "outputs": [],
   "source": [
    "# read the data\n",
    "df = pd.read_csv(\"../data/latin/latin.csv\", error_bad_lines=False, warn_bad_lines=False)"
   ]
  },
  {
   "cell_type": "markdown",
   "metadata": {},
   "source": [
    "### Delete columns"
   ]
  },
  {
   "cell_type": "code",
   "execution_count": 218,
   "metadata": {},
   "outputs": [],
   "source": [
    "df = df.drop('id', 1)\n",
    "df = df.drop('listing_url', 1)\n",
    "df = df.drop('scrape_id', 1)\n",
    "df = df.drop('last_scraped', 1)\n",
    "df = df.drop('name', 1)\n",
    "df = df.drop('summary', 1)\n",
    "df = df.drop('space', 1)\n",
    "df = df.drop('description', 1)\n",
    "df = df.drop('neighborhood_overview', 1)\n",
    "df = df.drop('notes', 1)\n",
    "df = df.drop('transit', 1)\n",
    "df = df.drop('access', 1)\n",
    "df = df.drop('interaction', 1)\n",
    "df = df.drop('house_rules', 1)\n",
    "df = df.drop('thumbnail_url', 1)\n",
    "df = df.drop('medium_url', 1)\n",
    "df = df.drop('picture_url', 1)\n",
    "df = df.drop('xl_picture_url', 1)\n",
    "df = df.drop('host_id', 1)\n",
    "df = df.drop('host_url', 1)\n",
    "df = df.drop('host_name', 1)\n",
    "df = df.drop('host_since', 1)\n",
    "df = df.drop('host_location', 1)\n",
    "df = df.drop('host_about', 1)\n",
    "df = df.drop('host_thumbnail_url', 1)\n",
    "df = df.drop('host_picture_url', 1)\n",
    "df = df.drop('host_neighbourhood', 1)\n",
    "df = df.drop('street', 1)\n",
    "df = df.drop('neighbourhood', 1)\n",
    "df = df.drop('neighbourhood_cleansed', 1)\n",
    "df = df.drop('neighbourhood_group_cleansed', 1)\n",
    "df = df.drop('city', 1)\n",
    "df = df.drop('state', 1)\n",
    "df = df.drop('zipcode', 1)\n",
    "df = df.drop('market', 1)\n",
    "df = df.drop('smart_location', 1)\n",
    "df = df.drop('country_code', 1)\n",
    "df = df.drop('country', 1)\n",
    "df = df.drop('latitude', 1)\n",
    "df = df.drop('longitude', 1)\n",
    "df = df.drop('square_feet', 1)\n",
    "df = df.drop('calendar_updated', 1)\n",
    "df = df.drop('first_review', 1)\n",
    "df = df.drop('last_review', 1)\n",
    "df = df.drop('license', 1)\n",
    "df = df.drop('jurisdiction_names', 1)\n",
    "df = df.drop('experiences_offered', 1)\n",
    "df = df.drop('host_acceptance_rate', 1)\n",
    "df = df.drop('calendar_last_scraped', 1)\n",
    "df = df.drop('monthly_price', 1)\n",
    "df = df.drop('weekly_price', 1)\n",
    "df = df.drop('property_type', 1)\n",
    "df = df.drop('room_type', 1)\n",
    "df = df.drop('bed_type', 1)\n",
    "df = df.drop('minimum_minimum_nights', 1)\n",
    "df = df.drop('maximum_minimum_nights', 1)\n",
    "df = df.drop('maximum_maximum_nights', 1)"
   ]
  },
  {
   "cell_type": "markdown",
   "metadata": {},
   "source": [
    "### Transform the amenities and host_verification_count into numbers"
   ]
  },
  {
   "cell_type": "code",
   "execution_count": 219,
   "metadata": {},
   "outputs": [],
   "source": [
    "df['amenities'] = df['amenities'].astype(str)"
   ]
  },
  {
   "cell_type": "code",
   "execution_count": 220,
   "metadata": {},
   "outputs": [],
   "source": [
    "df['host_verifications_count'] = df.apply(lambda row: row.host_verifications.count(',') + 1, axis=1)"
   ]
  },
  {
   "cell_type": "code",
   "execution_count": 221,
   "metadata": {},
   "outputs": [],
   "source": [
    "df['amenities_count'] = df.apply(lambda row: row.amenities.count(',') + 1 if not type(row) is float else 0, axis=1)"
   ]
  },
  {
   "cell_type": "code",
   "execution_count": 222,
   "metadata": {},
   "outputs": [],
   "source": [
    "df = df.drop('host_verifications', 1)\n",
    "df = df.drop('amenities', 1)"
   ]
  },
  {
   "cell_type": "markdown",
   "metadata": {},
   "source": [
    "### One hot-encoding"
   ]
  },
  {
   "cell_type": "code",
   "execution_count": 223,
   "metadata": {},
   "outputs": [],
   "source": [
    "df = df.dropna()"
   ]
  },
  {
   "cell_type": "code",
   "execution_count": 224,
   "metadata": {},
   "outputs": [
    {
     "data": {
      "text/plain": [
       "(30814, 49)"
      ]
     },
     "execution_count": 224,
     "metadata": {},
     "output_type": "execute_result"
    }
   ],
   "source": [
    "df.shape"
   ]
  },
  {
   "cell_type": "code",
   "execution_count": 225,
   "metadata": {},
   "outputs": [],
   "source": [
    "# import preprocessing from sklearn\n",
    "from sklearn import preprocessing\n",
    "le = preprocessing.LabelEncoder()"
   ]
  },
  {
   "cell_type": "code",
   "execution_count": 226,
   "metadata": {},
   "outputs": [],
   "source": [
    "# encoding these columns that are 0/1\n",
    "df['host_is_superhost'] = le.fit_transform(df.host_is_superhost.values)\n",
    "df['host_has_profile_pic'] = le.fit_transform(df.host_has_profile_pic.values)\n",
    "df['host_identity_verified'] = le.fit_transform(df.host_identity_verified.values)\n",
    "df['is_location_exact'] = le.fit_transform(df.is_location_exact.values)\n",
    "df['has_availability'] = le.fit_transform(df.has_availability.values)\n",
    "df['requires_license'] = le.fit_transform(df.requires_license.values)\n",
    "df['instant_bookable'] = le.fit_transform(df.instant_bookable.values)\n",
    "df['is_business_travel_ready'] = le.fit_transform(df.is_business_travel_ready.values)\n",
    "df['require_guest_profile_picture'] = le.fit_transform(df.require_guest_profile_picture.values)\n",
    "df['require_guest_phone_verification'] = le.fit_transform(df.require_guest_phone_verification.values)"
   ]
  },
  {
   "cell_type": "code",
   "execution_count": 227,
   "metadata": {},
   "outputs": [],
   "source": [
    "# encoding the language categorical feature\n",
    "df = pd.get_dummies(df, columns = ['host_response_time', 'cancellation_policy'])"
   ]
  },
  {
   "cell_type": "code",
   "execution_count": 228,
   "metadata": {},
   "outputs": [],
   "source": [
    "# convert to float 100%\n",
    "df.drop(df[df['host_response_rate'] == 'host_response_rate'].index, inplace = True)\n",
    "df.drop(df[df['price'] == 'price'].index, inplace = True)"
   ]
  },
  {
   "cell_type": "code",
   "execution_count": 229,
   "metadata": {},
   "outputs": [],
   "source": [
    "df['host_response_rate'] = df['host_response_rate'].str.rstrip('%').astype('float') / 100.0"
   ]
  },
  {
   "cell_type": "code",
   "execution_count": 230,
   "metadata": {},
   "outputs": [],
   "source": [
    "df['price']=(df['price'].replace( '[\\$,)]','', regex=True )\n",
    "                   .replace( '[(]','-',   regex=True ).astype(float))\n",
    "df['security_deposit']=(df['security_deposit'].replace( '[\\$,)]','', regex=True )\n",
    "                   .replace( '[(]','-',   regex=True ).astype(float))\n",
    "df['cleaning_fee']=(df['cleaning_fee'].replace( '[\\$,)]','', regex=True )\n",
    "                   .replace( '[(]','-',   regex=True ).astype(float))\n",
    "df['extra_people']=(df['extra_people'].replace( '[\\$,)]','', regex=True )\n",
    "                   .replace( '[(]','-',   regex=True ).astype(float))"
   ]
  },
  {
   "cell_type": "markdown",
   "metadata": {},
   "source": [
    "#### Send Y to the end"
   ]
  },
  {
   "cell_type": "code",
   "execution_count": 231,
   "metadata": {},
   "outputs": [],
   "source": [
    "satisfaction = df.review_scores_rating.values\n",
    "df = df.drop('review_scores_rating', 1)\n",
    "df['satisfaction'] = satisfaction"
   ]
  },
  {
   "cell_type": "code",
   "execution_count": 232,
   "metadata": {},
   "outputs": [],
   "source": [
    "df['satisfaction'] = df['satisfaction'].astype(int)"
   ]
  },
  {
   "cell_type": "code",
   "execution_count": 233,
   "metadata": {},
   "outputs": [],
   "source": [
    "df['satisfaction'] = df['satisfaction'].apply(lambda x: 1 if x >= 90 else 0)"
   ]
  },
  {
   "cell_type": "code",
   "execution_count": 234,
   "metadata": {},
   "outputs": [
    {
     "data": {
      "text/plain": [
       "1    26888\n",
       "0     3922\n",
       "Name: satisfaction, dtype: int64"
      ]
     },
     "execution_count": 234,
     "metadata": {},
     "output_type": "execute_result"
    }
   ],
   "source": [
    "df.satisfaction.value_counts()"
   ]
  },
  {
   "cell_type": "code",
   "execution_count": 235,
   "metadata": {},
   "outputs": [],
   "source": [
    "df = df.loc[:, ~df.columns.str.contains('^Unnamed')]"
   ]
  },
  {
   "cell_type": "code",
   "execution_count": 236,
   "metadata": {},
   "outputs": [],
   "source": [
    "# save the csv\n",
    "df.to_csv('../experiments/latin-processed.csv')"
   ]
  },
  {
   "cell_type": "markdown",
   "metadata": {},
   "source": [
    "##### That's all folks!!!"
   ]
  },
  {
   "cell_type": "code",
   "execution_count": 237,
   "metadata": {},
   "outputs": [
    {
     "data": {
      "text/plain": [
       "(30810, 59)"
      ]
     },
     "execution_count": 237,
     "metadata": {},
     "output_type": "execute_result"
    }
   ],
   "source": [
    "df.shape"
   ]
  },
  {
   "cell_type": "code",
   "execution_count": null,
   "metadata": {},
   "outputs": [],
   "source": []
  }
 ],
 "metadata": {
  "kernelspec": {
   "display_name": "Python 3",
   "language": "python",
   "name": "python3"
  },
  "language_info": {
   "codemirror_mode": {
    "name": "ipython",
    "version": 3
   },
   "file_extension": ".py",
   "mimetype": "text/x-python",
   "name": "python",
   "nbconvert_exporter": "python",
   "pygments_lexer": "ipython3",
   "version": "3.8.2"
  }
 },
 "nbformat": 4,
 "nbformat_minor": 4
}
